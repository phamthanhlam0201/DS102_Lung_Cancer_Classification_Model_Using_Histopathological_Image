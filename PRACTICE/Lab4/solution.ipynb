{
 "cells": [
  {
   "cell_type": "code",
   "execution_count": 18,
   "metadata": {},
   "outputs": [],
   "source": [
    "from sklearn.feature_extraction.text import CountVectorizer, TfidfVectorizer\n",
    "from sklearn.naive_bayes import MultinomialNB\n",
    "from sklearn.svm import SVC\n",
    "from sklearn.linear_model import LogisticRegression\n",
    "from sklearn.metrics import accuracy_score, precision_score, recall_score, f1_score"
   ]
  },
  {
   "cell_type": "code",
   "execution_count": 19,
   "metadata": {},
   "outputs": [],
   "source": [
    "import pandas as pd\n",
    "\n",
    "def load_dataset(fol_path):\n",
    "    # Đọc các mẫu dữ liệu từ sentences.txt\n",
    "    with open(fol_path+'/sents.txt', \"r\", encoding = 'utf-8') as file:\n",
    "        sentences = [line.strip() for line in file]\n",
    "    \n",
    "    # Đọc nhãn cho các mẫu dữ liệu đã load ở trên từ file labels.txt\n",
    "    with open(fol_path+\"/sentiments.txt\", \"r\", encoding = 'utf-8') as file:\n",
    "        labels = [int(line.strip()) for line in file]\n",
    "\n",
    "    assert len(sentences) == len(labels), 'Số lượng mẫu dữ liệu và nhãn không khớp'\n",
    "\n",
    "    df = pd.DataFrame({\"text\": sentences, \"label\":labels})\n",
    "\n",
    "    return df"
   ]
  },
  {
   "cell_type": "code",
   "execution_count": 20,
   "metadata": {},
   "outputs": [],
   "source": [
    "train = load_dataset(\"Dataset/train\")\n",
    "test = load_dataset(\"Dataset/test\")"
   ]
  },
  {
   "cell_type": "code",
   "execution_count": 21,
   "metadata": {},
   "outputs": [
    {
     "data": {
      "text/html": [
       "<div>\n",
       "<style scoped>\n",
       "    .dataframe tbody tr th:only-of-type {\n",
       "        vertical-align: middle;\n",
       "    }\n",
       "\n",
       "    .dataframe tbody tr th {\n",
       "        vertical-align: top;\n",
       "    }\n",
       "\n",
       "    .dataframe thead th {\n",
       "        text-align: right;\n",
       "    }\n",
       "</style>\n",
       "<table border=\"1\" class=\"dataframe\">\n",
       "  <thead>\n",
       "    <tr style=\"text-align: right;\">\n",
       "      <th></th>\n",
       "      <th>text</th>\n",
       "      <th>label</th>\n",
       "    </tr>\n",
       "  </thead>\n",
       "  <tbody>\n",
       "    <tr>\n",
       "      <th>0</th>\n",
       "      <td>slide giáo trình đầy đủ .</td>\n",
       "      <td>2</td>\n",
       "    </tr>\n",
       "    <tr>\n",
       "      <th>1</th>\n",
       "      <td>nhiệt tình giảng dạy , gần gũi với sinh viên .</td>\n",
       "      <td>2</td>\n",
       "    </tr>\n",
       "    <tr>\n",
       "      <th>2</th>\n",
       "      <td>đi học đầy đủ full điểm chuyên cần .</td>\n",
       "      <td>0</td>\n",
       "    </tr>\n",
       "    <tr>\n",
       "      <th>3</th>\n",
       "      <td>chưa áp dụng công nghệ thông tin và các thiết ...</td>\n",
       "      <td>0</td>\n",
       "    </tr>\n",
       "    <tr>\n",
       "      <th>4</th>\n",
       "      <td>thầy giảng bài hay , có nhiều bài tập ví dụ ng...</td>\n",
       "      <td>2</td>\n",
       "    </tr>\n",
       "    <tr>\n",
       "      <th>...</th>\n",
       "      <td>...</td>\n",
       "      <td>...</td>\n",
       "    </tr>\n",
       "    <tr>\n",
       "      <th>11421</th>\n",
       "      <td>chỉ vì môn game mà em học hai lần mà không qua...</td>\n",
       "      <td>0</td>\n",
       "    </tr>\n",
       "    <tr>\n",
       "      <th>11422</th>\n",
       "      <td>em cảm ơn cô nhiều .</td>\n",
       "      <td>2</td>\n",
       "    </tr>\n",
       "    <tr>\n",
       "      <th>11423</th>\n",
       "      <td>giao bài tập quá nhiều .</td>\n",
       "      <td>0</td>\n",
       "    </tr>\n",
       "    <tr>\n",
       "      <th>11424</th>\n",
       "      <td>giáo viên dạy dễ hiểu , nhiệt tình .</td>\n",
       "      <td>2</td>\n",
       "    </tr>\n",
       "    <tr>\n",
       "      <th>11425</th>\n",
       "      <td>gói gọn doubledot hay , tận tình , phù hợp với...</td>\n",
       "      <td>2</td>\n",
       "    </tr>\n",
       "  </tbody>\n",
       "</table>\n",
       "<p>11426 rows × 2 columns</p>\n",
       "</div>"
      ],
      "text/plain": [
       "                                                    text  label\n",
       "0                              slide giáo trình đầy đủ .      2\n",
       "1         nhiệt tình giảng dạy , gần gũi với sinh viên .      2\n",
       "2                   đi học đầy đủ full điểm chuyên cần .      0\n",
       "3      chưa áp dụng công nghệ thông tin và các thiết ...      0\n",
       "4      thầy giảng bài hay , có nhiều bài tập ví dụ ng...      2\n",
       "...                                                  ...    ...\n",
       "11421  chỉ vì môn game mà em học hai lần mà không qua...      0\n",
       "11422                               em cảm ơn cô nhiều .      2\n",
       "11423                           giao bài tập quá nhiều .      0\n",
       "11424               giáo viên dạy dễ hiểu , nhiệt tình .      2\n",
       "11425  gói gọn doubledot hay , tận tình , phù hợp với...      2\n",
       "\n",
       "[11426 rows x 2 columns]"
      ]
     },
     "execution_count": 21,
     "metadata": {},
     "output_type": "execute_result"
    }
   ],
   "source": [
    "train"
   ]
  },
  {
   "cell_type": "code",
   "execution_count": 22,
   "metadata": {},
   "outputs": [
    {
     "data": {
      "text/html": [
       "<div>\n",
       "<style scoped>\n",
       "    .dataframe tbody tr th:only-of-type {\n",
       "        vertical-align: middle;\n",
       "    }\n",
       "\n",
       "    .dataframe tbody tr th {\n",
       "        vertical-align: top;\n",
       "    }\n",
       "\n",
       "    .dataframe thead th {\n",
       "        text-align: right;\n",
       "    }\n",
       "</style>\n",
       "<table border=\"1\" class=\"dataframe\">\n",
       "  <thead>\n",
       "    <tr style=\"text-align: right;\">\n",
       "      <th></th>\n",
       "      <th>text</th>\n",
       "      <th>label</th>\n",
       "    </tr>\n",
       "  </thead>\n",
       "  <tbody>\n",
       "    <tr>\n",
       "      <th>0</th>\n",
       "      <td>nói tiếng anh lưu loát .</td>\n",
       "      <td>2</td>\n",
       "    </tr>\n",
       "    <tr>\n",
       "      <th>1</th>\n",
       "      <td>giáo viên rất vui tính .</td>\n",
       "      <td>2</td>\n",
       "    </tr>\n",
       "    <tr>\n",
       "      <th>2</th>\n",
       "      <td>cô max có tâm .</td>\n",
       "      <td>2</td>\n",
       "    </tr>\n",
       "    <tr>\n",
       "      <th>3</th>\n",
       "      <td>giảng bài thu hút , dí dỏm .</td>\n",
       "      <td>2</td>\n",
       "    </tr>\n",
       "    <tr>\n",
       "      <th>4</th>\n",
       "      <td>giáo viên không giảng dạy kiến thức , hướng dẫ...</td>\n",
       "      <td>0</td>\n",
       "    </tr>\n",
       "    <tr>\n",
       "      <th>...</th>\n",
       "      <td>...</td>\n",
       "      <td>...</td>\n",
       "    </tr>\n",
       "    <tr>\n",
       "      <th>3161</th>\n",
       "      <td>các slide khó hiểu , ngôn ngữ trong slide phức...</td>\n",
       "      <td>0</td>\n",
       "    </tr>\n",
       "    <tr>\n",
       "      <th>3162</th>\n",
       "      <td>giáo viên giảng dạy có tâm huyết .</td>\n",
       "      <td>2</td>\n",
       "    </tr>\n",
       "    <tr>\n",
       "      <th>3163</th>\n",
       "      <td>chia sẻ cho em nhiều điều hay .</td>\n",
       "      <td>2</td>\n",
       "    </tr>\n",
       "    <tr>\n",
       "      <th>3164</th>\n",
       "      <td>em tiếp thu chậm .</td>\n",
       "      <td>0</td>\n",
       "    </tr>\n",
       "    <tr>\n",
       "      <th>3165</th>\n",
       "      <td>em có học ở một trung tâm tiếng anh ở ngoài tr...</td>\n",
       "      <td>1</td>\n",
       "    </tr>\n",
       "  </tbody>\n",
       "</table>\n",
       "<p>3166 rows × 2 columns</p>\n",
       "</div>"
      ],
      "text/plain": [
       "                                                   text  label\n",
       "0                              nói tiếng anh lưu loát .      2\n",
       "1                              giáo viên rất vui tính .      2\n",
       "2                                       cô max có tâm .      2\n",
       "3                          giảng bài thu hút , dí dỏm .      2\n",
       "4     giáo viên không giảng dạy kiến thức , hướng dẫ...      0\n",
       "...                                                 ...    ...\n",
       "3161  các slide khó hiểu , ngôn ngữ trong slide phức...      0\n",
       "3162                 giáo viên giảng dạy có tâm huyết .      2\n",
       "3163                    chia sẻ cho em nhiều điều hay .      2\n",
       "3164                                 em tiếp thu chậm .      0\n",
       "3165  em có học ở một trung tâm tiếng anh ở ngoài tr...      1\n",
       "\n",
       "[3166 rows x 2 columns]"
      ]
     },
     "execution_count": 22,
     "metadata": {},
     "output_type": "execute_result"
    }
   ],
   "source": [
    "test"
   ]
  },
  {
   "cell_type": "code",
   "execution_count": 23,
   "metadata": {},
   "outputs": [],
   "source": [
    "X_train = train['text']\n",
    "y_train = train['label']\n",
    "X_test = test['text']\n",
    "y_test = test['label']"
   ]
  },
  {
   "cell_type": "code",
   "execution_count": 24,
   "metadata": {},
   "outputs": [],
   "source": [
    "accuracy_ = []\n",
    "precision_ = []\n",
    "recall_ = []\n",
    "f1score_ = []"
   ]
  },
  {
   "cell_type": "markdown",
   "metadata": {},
   "source": [
    "## Bài 1: Mã hoá văn bản bằng kỹ thuật Counting. Huấn luyện phương pháp Naive Bayes, SVM và Softmax Regression. Sử dụng các độ đo accuracy, precision, recall và F1 để đánh giá mô hình huấn luyện được."
   ]
  },
  {
   "cell_type": "code",
   "execution_count": 25,
   "metadata": {},
   "outputs": [],
   "source": [
    "count_vectorizer = CountVectorizer()\n",
    "\n",
    "X_train_count = count_vectorizer.fit_transform(X_train)\n",
    "X_test_count = count_vectorizer.transform(X_test)"
   ]
  },
  {
   "cell_type": "code",
   "execution_count": 26,
   "metadata": {},
   "outputs": [],
   "source": [
    "def training(models, X, X_):\n",
    "    for name, model in models:\n",
    "        model.fit(X, y_train)\n",
    "        y_pred = model.predict(X_)\n",
    "\n",
    "        accu = accuracy_score(y_test, y_pred)\n",
    "        pre = precision_score(y_test, y_pred, average='weighted')\n",
    "        recall = recall_score(y_test, y_pred, average='weighted')\n",
    "        f1 = f1_score(y_test, y_pred, average='weighted')\n",
    "\n",
    "        accuracy_.append(accu)\n",
    "        precision_.append(pre)\n",
    "        recall_.append(recall)\n",
    "        f1score_.append(f1)\n",
    "\n",
    "        print(f\"Evaluate model {name}:\")\n",
    "        print(f\"Accuracy: {accu:.4f}\")\n",
    "        print(f\"Precision: {pre:.4f}\")\n",
    "        print(f\"Recall: {recall:.4f}\")\n",
    "        print(f\"F1_score: {f1:.4f}\")"
   ]
  },
  {
   "cell_type": "code",
   "execution_count": 27,
   "metadata": {},
   "outputs": [],
   "source": [
    "models = [(\"Naive Bayes\", MultinomialNB()), \n",
    "          (\"SVC\", SVC()), \n",
    "          (\"Softmax Regression\", LogisticRegression(multi_class=\"multinomial\", solver='saga', tol = 0.008))]"
   ]
  },
  {
   "cell_type": "code",
   "execution_count": 28,
   "metadata": {},
   "outputs": [
    {
     "name": "stdout",
     "output_type": "stream",
     "text": [
      "Evaluate model Naive Bayes:\n",
      "Accuracy: 0.8402\n",
      "Precision: 0.8273\n",
      "Recall: 0.8402\n",
      "F1_score: 0.8266\n",
      "Evaluate model SVC:\n",
      "Accuracy: 0.8860\n",
      "Precision: 0.8770\n",
      "Recall: 0.8860\n",
      "F1_score: 0.8660\n",
      "Evaluate model Softmax Regression:\n",
      "Accuracy: 0.8853\n",
      "Precision: 0.8730\n",
      "Recall: 0.8853\n",
      "F1_score: 0.8728\n"
     ]
    }
   ],
   "source": [
    "training(models, X_train_count, X_test_count)"
   ]
  },
  {
   "cell_type": "markdown",
   "metadata": {},
   "source": [
    "## Bài 2: Mã hoá văn bản bằng kỹ thuật TF-IDF. Huấn luyện phương pháp Naive Bayes, SVM và Softmax Regression. Sử dụng các độ đo accuracy, precision, recall và F1 để đánh giá mô hình huấn luyện được."
   ]
  },
  {
   "cell_type": "code",
   "execution_count": 29,
   "metadata": {},
   "outputs": [
    {
     "name": "stdout",
     "output_type": "stream",
     "text": [
      "Evaluate model Naive Bayes:\n",
      "Accuracy: 0.8402\n",
      "Precision: 0.8013\n",
      "Recall: 0.8402\n",
      "F1_score: 0.8180\n",
      "Evaluate model SVC:\n",
      "Accuracy: 0.8898\n",
      "Precision: 0.8904\n",
      "Recall: 0.8898\n",
      "F1_score: 0.8730\n",
      "Evaluate model Softmax Regression:\n",
      "Accuracy: 0.8803\n",
      "Precision: 0.8698\n",
      "Recall: 0.8803\n",
      "F1_score: 0.8633\n"
     ]
    }
   ],
   "source": [
    "tfidf_vectorizer = TfidfVectorizer()\n",
    "\n",
    "X_train_tfidf= tfidf_vectorizer.fit_transform(X_train)\n",
    "X_test_tfidf = tfidf_vectorizer.transform(X_test)\n",
    "\n",
    "training(models, X_train_tfidf, X_test_tfidf)"
   ]
  },
  {
   "cell_type": "markdown",
   "metadata": {},
   "source": [
    "## Bài 3: Sử dụng VnCoreNLP thực hiện tách từ. Mã hoá văn bản bằng kỹ thuật TF-IDF. Huấn luyện phương pháp Naive Bayes, SVM và Softmax Regression. Sử dụng các độ đo accuracy, precision, recall và F1 để đánh giá mô hình huấn luyện được. Nhận xét ảnh hưởng của việc tách từ lên kết quả của mô hình SVM"
   ]
  },
  {
   "cell_type": "code",
   "execution_count": 30,
   "metadata": {},
   "outputs": [
    {
     "data": {
      "text/plain": [
       "[0.8401768793430195,\n",
       " 0.8859759949463045,\n",
       " 0.8853442830069488,\n",
       " 0.8401768793430195,\n",
       " 0.8897662665824384,\n",
       " 0.8802905874921036]"
      ]
     },
     "execution_count": 30,
     "metadata": {},
     "output_type": "execute_result"
    }
   ],
   "source": [
    "accuracy_"
   ]
  },
  {
   "cell_type": "code",
   "execution_count": 31,
   "metadata": {},
   "outputs": [],
   "source": [
    "from vncorenlp import VnCoreNLP\n",
    "\n",
    "rdrsegmenter = VnCoreNLP(\"VnCoreNLP/VnCoreNLP-1.1.1.jar\", annotators=\"wseg\", max_heap_size='-Xmx2g')\n"
   ]
  },
  {
   "cell_type": "code",
   "execution_count": 32,
   "metadata": {},
   "outputs": [],
   "source": [
    "def word_segment(text):\n",
    "    out = []\n",
    "    for sentence in text:\n",
    "        out.append(' '.join(rdrsegmenter.tokenize(sentence)[0]))\n",
    "    return out"
   ]
  },
  {
   "cell_type": "code",
   "execution_count": 33,
   "metadata": {},
   "outputs": [],
   "source": [
    "X_train_ = word_segment(X_train)\n",
    "X_test_ = word_segment(X_test)"
   ]
  },
  {
   "cell_type": "code",
   "execution_count": 34,
   "metadata": {},
   "outputs": [],
   "source": [
    "X_train_tfidf_ = tfidf_vectorizer.fit_transform(X_train_)\n",
    "X_test_tfidf_ = tfidf_vectorizer.transform(X_test_)"
   ]
  },
  {
   "cell_type": "code",
   "execution_count": 35,
   "metadata": {},
   "outputs": [
    {
     "name": "stderr",
     "output_type": "stream",
     "text": [
      "c:\\Users\\ACER\\anaconda3\\Lib\\site-packages\\sklearn\\metrics\\_classification.py:1509: UndefinedMetricWarning: Precision is ill-defined and being set to 0.0 in labels with no predicted samples. Use `zero_division` parameter to control this behavior.\n",
      "  _warn_prf(average, modifier, f\"{metric.capitalize()} is\", len(result))\n"
     ]
    },
    {
     "name": "stdout",
     "output_type": "stream",
     "text": [
      "Evaluate model Naive Bayes:\n",
      "Accuracy: 0.8506\n",
      "Precision: 0.8098\n",
      "Recall: 0.8506\n",
      "F1_score: 0.8279\n",
      "Evaluate model SVC:\n",
      "Accuracy: 0.8942\n",
      "Precision: 0.8916\n",
      "Recall: 0.8942\n",
      "F1_score: 0.8766\n",
      "Evaluate model Softmax Regression:\n",
      "Accuracy: 0.8860\n",
      "Precision: 0.8771\n",
      "Recall: 0.8860\n",
      "F1_score: 0.8677\n"
     ]
    }
   ],
   "source": [
    "training(models, X_train_tfidf_, X_test_tfidf_)"
   ]
  },
  {
   "cell_type": "code",
   "execution_count": 36,
   "metadata": {},
   "outputs": [
    {
     "data": {
      "image/png": "[encoded data removed]",
      "text/plain": [
       "<Figure size 1200x500 with 1 Axes>"
      ]
     },
     "metadata": {},
     "output_type": "display_data"
    }
   ],
   "source": [
    "import matplotlib.pyplot as plt\n",
    "import seaborn as sns\n",
    "import pandas as pd\n",
    "\n",
    "# Kết quả của các phương pháp mã hóa\n",
    "results = {\n",
    "    'Method': ['Naive Bayes', 'SVM', 'Softmax Regression',\n",
    "               'Naive Bayes', 'SVM', 'Softmax Regression',\n",
    "               'Naive Bayes', 'SVM', 'Softmax Regression'],\n",
    "    'Encoding': ['Count', 'Count', 'Count',\n",
    "                 'TF-IDF', 'TF-IDF', 'TF-IDF',\n",
    "                 'VnCoreNLP', 'VnCoreNLP', 'VnCoreNLP'],\n",
    "    'Accuracy': accuracy_,\n",
    "    'Precision': precision_,\n",
    "    'Recall': recall_,\n",
    "    'F1 Score': f1score_\n",
    "}\n",
    "\n",
    "# Tạo DataFrame từ kết quả\n",
    "df = pd.DataFrame(results)\n",
    "\n",
    "# Lọc DataFrame để chỉ giữ lại các hàng có 'Method' là 'SVM'\n",
    "df_svm = df[df['Method'] == 'SVM']\n",
    "\n",
    "# Chuyển đổi DataFrame để thuận tiện cho việc vẽ biểu đồ\n",
    "df_svm_melted = df_svm.melt(id_vars=['Encoding'], value_vars=['Accuracy', 'Precision', 'Recall', 'F1 Score'], \n",
    "                            var_name='Metric', value_name='Score')\n",
    "\n",
    "# Thiết lập kiểu hiển thị của seaborn\n",
    "sns.set(style=\"whitegrid\")\n",
    "\n",
    "# Tạo biểu đồ\n",
    "plt.figure(figsize=(12, 5))\n",
    "sns.barplot(x='Metric', y='Score', hue='Encoding', data=df_svm_melted)\n",
    "\n",
    "# Thiết lập tiêu đề và nhãn\n",
    "plt.title('SVM Metrics Comparison Across Different Encodings')\n",
    "plt.ylabel('Score')\n",
    "plt.xlabel('Metric')\n",
    "\n",
    "# Hiển thị chú thích\n",
    "plt.legend(title='Encoding Method')\n",
    "\n",
    "# Hiển thị biểu đồ\n",
    "plt.tight_layout()\n",
    "plt.show()\n"
   ]
  },
  {
   "cell_type": "markdown",
   "metadata": {},
   "source": [
    "## Nhận xét\n",
    "VnCoreNLP là một công cụ xử lý ngôn ngữ tự nhiên (NLP) đặc biệt cho tiếng Việt, cung cấp các tính năng như phân đoạn từ, gán nhãn từ loại, phân tích cú pháp, và nhận diện thực thể.\n",
    "\n",
    "Trong tiếng Việt, các từ không được tách biệt bằng khoảng trắng như trong tiếng Anh. Vì vậy, phân đoạn từ (word segmentation) là một bước rất quan trọng. VnCoreNLP sử dụng các mô hình học máy để phân đoạn từ một cách chính xác, đảm bảo rằng các từ ghép và các từ phức tạp được nhận diện đúng.\n",
    "\n",
    "Phương pháp Count và TF-IDF thường xem xét các từ đơn lẻ mà không quan tâm đến ngữ cảnh hoặc cấu trúc câu. Khi kết hợp với VnCoreNLP, TF-IDF có thể hoạt động trên các từ đã được phân đoạn và nhận dạng chính xác, giúp giảm thiểu lỗi từ việc tách từ sai hoặc hiểu sai ngữ cảnh của từ.\n",
    "\n",
    "Việc sử dụng VnCoreNLP giúp khai thác được nhiều thông tin ngôn ngữ hơn từ văn bản, từ đó cung cấp cho mô hình SVM những đặc trưng tốt hơn và có ý nghĩa hơn. Điều này dẫn đến việc cải thiện các chỉ số đánh giá như Accuracy, Precision, Recall và F1 Score so với việc chỉ sử dụng các phương pháp mã hóa đơn giản như Count và TF-IDF mà không sử dụng thông tin ngữ nghĩa và ngữ pháp từ VnCoreNLP."
   ]
  },
  {
   "cell_type": "markdown",
   "metadata": {},
   "source": [
    "## Bài 4: Tìm hiểu thêm một số kỹ thuật tiền xử lý, làm sạch dữ liệu để cải thiện chất lượng dữ liệu và hiệu suất của các mô hình máy học"
   ]
  },
  {
   "cell_type": "code",
   "execution_count": 44,
   "metadata": {},
   "outputs": [
    {
     "data": {
      "text/plain": [
       "['a_lô',\n",
       " 'a_ha',\n",
       " 'ai',\n",
       " 'ai_ai',\n",
       " 'ai_nấy',\n",
       " 'ai_đó',\n",
       " 'alô',\n",
       " 'amen',\n",
       " 'anh',\n",
       " 'anh_ấy']"
      ]
     },
     "execution_count": 44,
     "metadata": {},
     "output_type": "execute_result"
    }
   ],
   "source": [
    "stopword_path = 'Textual data/vietnamese-stopwords-dash.txt'\n",
    "\n",
    "with open(stopword_path, 'r', encoding='utf-8') as file:\n",
    "    stopwords = file.readlines()\n",
    "stopwords = [word.strip() for word in stopwords]\n",
    "\n",
    "stopwords[:10]"
   ]
  },
  {
   "cell_type": "code",
   "execution_count": 45,
   "metadata": {},
   "outputs": [
    {
     "data": {
      "text/plain": [
       "['slide giáo trình đầy đủ .',\n",
       " 'nhiệt tình giảng dạy , gần gũi sinh viên .',\n",
       " 'đi học đầy đủ full điểm chuyên .',\n",
       " 'áp dụng công nghệ thông tin thiết hỗ trợ giảng dạy .',\n",
       " 'thầy giảng bài hay , bài tập ví dụ lớp .',\n",
       " 'giảng viên đảm bảo thời gian lớp , tích cực trả lời câu hỏi sinh viên , thường xuyên đặt câu hỏi sinh viên .',\n",
       " 'em nợ môn , em học ở học kỳ kế tiếp .',\n",
       " 'thời lượng học quá dài , đảm bảo tiếp thu hiệu quả .',\n",
       " 'nội dung môn học phần thiếu trọng tâm , hầu chung chung , khái quát khiến sinh viên khó nắm nội dung môn học .',\n",
       " 'nói rõ hơn bằng cách trình bày bảng thay nhìn slide .',\n",
       " 'thầy tận tình đi dạy đúng giờ .',\n",
       " 'dễ áp lực .',\n",
       " 'dạy thầy wzjwz208 đi nước ngoài giữa chừng , thầy wzjwz209 dạy thay .',\n",
       " 'môn học còn dễ nâng độ khó .',\n",
       " 'thể sinh viên đi thăm quan công ty xem quy mô cách làm , giúp hiểu rõ hơn vê ngành mình học .',\n",
       " 'hài lòng về tất .',\n",
       " 'nhiệt tình , vui vẻ .',\n",
       " 'thấy nhiệt tình trong trao đổi giúp đỡ về học tập .',\n",
       " 'phong cách giảng bài thầy gần gũi sinh viên !',\n",
       " 'giảng dạy kết hợp hoạt động giải trí hiệu quả .']"
      ]
     },
     "execution_count": 45,
     "metadata": {},
     "output_type": "execute_result"
    }
   ],
   "source": [
    "stopwords = ['bị', 'bởi', 'cả', 'các', 'cái', 'cần', 'càng', 'chỉ', 'chiếc', 'cho', 'chứ', 'chưa', 'chuyện', 'có', 'có_thể', 'cứ',\n",
    "            'của', 'cùng', 'cũng', 'đã', 'đang', 'đây', 'để', 'đến_nỗi', 'đều', 'điều', 'do', 'đó', 'được', 'dưới', 'gì', 'khi',\n",
    "            'không', 'là', 'lại', 'lên', 'lúc', 'mà', 'mỗi', 'một_cách', 'này', 'nên', 'nếu', 'ngay', 'nhiều', 'như', 'nhưng',\n",
    "            'những', 'nơi', 'nữa', 'phải', 'qua', 'ra', 'rằng', 'rất', 'rồi', 'sau', 'sẽ', 'so', 'sự', 'tại', 'theo', 'thì', 'trên',\n",
    "            'trước', 'từ', 'từng', 'và', 'vẫn', 'vào', 'vậy', 'vì', 'việc', 'với', 'vừa']\n",
    "\n",
    "def remove_stopwords(line):\n",
    "    words = []\n",
    "    for word in line.strip().split():\n",
    "        if word not in stopwords:\n",
    "            words.append(word)\n",
    "    return ' '.join(words)\n",
    "\n",
    "def preprocessing(text):\n",
    "    out = []\n",
    "    for sentence in text:\n",
    "        sentence_without_sw = remove_stopwords(sentence)\n",
    "        out.append(sentence_without_sw)\n",
    "    return out\n",
    "\n",
    "X_train_sw = preprocessing(X_train)\n",
    "X_test_sw = preprocessing(X_test)\n",
    "X_train_sw[:20]"
   ]
  },
  {
   "cell_type": "code",
   "execution_count": 41,
   "metadata": {},
   "outputs": [],
   "source": [
    "X_train_sw = tfidf_vectorizer.fit_transform(X_train_sw)\n",
    "X_test_sw = tfidf_vectorizer.transform(X_test_sw)"
   ]
  },
  {
   "cell_type": "code",
   "execution_count": 42,
   "metadata": {},
   "outputs": [
    {
     "name": "stdout",
     "output_type": "stream",
     "text": [
      "Evaluate model Naive Bayes:\n",
      "Accuracy: 0.8196\n",
      "Precision: 0.7786\n",
      "Recall: 0.8196\n",
      "F1_score: 0.7979\n",
      "Evaluate model SVC:\n",
      "Accuracy: 0.8487\n",
      "Precision: 0.8474\n",
      "Recall: 0.8487\n",
      "F1_score: 0.8319\n",
      "Evaluate model Softmax Regression:\n",
      "Accuracy: 0.8424\n",
      "Precision: 0.8333\n",
      "Recall: 0.8424\n",
      "F1_score: 0.8257\n"
     ]
    }
   ],
   "source": [
    "training(models, X_train_sw, X_test_sw)"
   ]
  },
  {
   "cell_type": "code",
   "execution_count": 43,
   "metadata": {},
   "outputs": [
    {
     "data": {
      "image/png": "[encoded data removed]",
      "text/plain": [
       "<Figure size 1600x1200 with 4 Axes>"
      ]
     },
     "metadata": {},
     "output_type": "display_data"
    }
   ],
   "source": [
    "# Kết quả của các phương pháp mã hóa\n",
    "results = {\n",
    "    'Method': ['Navie Bayes', 'SVM', 'Softmax Regression',\n",
    "                'Navie Bayes', 'SVM', 'Softmax Regression',\n",
    "                'Navie Bayes', 'SVM', 'Softmax Regression', \n",
    "                'Navie Bayes', 'SVM', 'Softmax Regression'],\n",
    "\n",
    "    'Encoding': ['Count', 'Count', 'Count',\n",
    "                'TF-IDF', 'TF-IDF', 'TF-IDF',\n",
    "                'VnCoreNLP', 'VnCoreNLP', 'VnCoreNLP', \n",
    "                'Remove Stopwords', 'Remove Stopwords', 'Remove Stopwords'],\n",
    "    'Accuracy': accuracy_,\n",
    "    'Precision': precision_,\n",
    "    'Recall': recall_,\n",
    "    'F1 Score': f1score_\n",
    "}\n",
    "\n",
    "# Tạo DataFrame từ kết quả\n",
    "df = pd.DataFrame(results)\n",
    "\n",
    "# Thiết lập kiểu hiển thị của seaborn\n",
    "sns.set(style=\"whitegrid\")\n",
    "\n",
    "# Thiết lập biểu đồ\n",
    "fig, axes = plt.subplots(2, 2, figsize=(16, 12))\n",
    "\n",
    "# Vẽ biểu đồ Accuracy\n",
    "sns.barplot(x='Method', y='Accuracy', hue='Encoding', data=df, ax=axes[0, 0])\n",
    "axes[0, 0].set_title('Accuracy Comparison')\n",
    "\n",
    "# Vẽ biểu đồ Precision\n",
    "sns.barplot(x='Method', y='Precision', hue='Encoding', data=df, ax=axes[0, 1])\n",
    "axes[0, 1].set_title('Precision Comparison')\n",
    "\n",
    "# Vẽ biểu đồ Recall\n",
    "sns.barplot(x='Method', y='Recall', hue='Encoding', data=df, ax=axes[1, 0])\n",
    "axes[1, 0].set_title('Recall Comparison')\n",
    "\n",
    "# Vẽ biểu đồ F1 Score\n",
    "sns.barplot(x='Method', y='F1 Score', hue='Encoding', data=df, ax=axes[1, 1])\n",
    "axes[1, 1].set_title('F1 Score Comparison')\n",
    "\n",
    "# Hiển thị biểu đồ\n",
    "plt.tight_layout()\n",
    "plt.show()"
   ]
  },
  {
   "cell_type": "markdown",
   "metadata": {},
   "source": [
    "## Nhận xét\n",
    "Từ đồ thị, SVM là phương pháp phân loại hiệu quả nhất trong các thử nghiệm này, và việc sử dụng các kỹ thuật xử lý ngôn ngữ tự nhiên chuyên biệt như VnCoreNLP hoặc loại bỏ từ dừng có thể giúp cải thiện hiệu suất của mô hình phân tích cảm xúc tiếng Việt, nhưng trong trường hợp với bộ dữ liệu này dựa vào đồ thị ta thấy kĩ thuật xử lý ngôn ngữ tự nhiên chuyên biệt như VnCoreNLP cải thiện hiệu suất của mô hình trong khi kĩ thuật loại bỏ từ dừng làm hiệu xuất mô hình giảm đi. Tuy nhiên, các phương pháp mã hóa cơ bản như Count, TF-IDF kĩ thuật loại bỏ từ dừng cũng cho thấy kết quả khá tốt, và sự khác biệt giữa các phương pháp mã hóa không quá lớn. "
   ]
  },
  {
   "cell_type": "code",
   "execution_count": 46,
   "metadata": {},
   "outputs": [
    {
     "data": {
      "text/html": [
       "<div>\n",
       "<style scoped>\n",
       "    .dataframe tbody tr th:only-of-type {\n",
       "        vertical-align: middle;\n",
       "    }\n",
       "\n",
       "    .dataframe tbody tr th {\n",
       "        vertical-align: top;\n",
       "    }\n",
       "\n",
       "    .dataframe thead th {\n",
       "        text-align: right;\n",
       "    }\n",
       "</style>\n",
       "<table border=\"1\" class=\"dataframe\">\n",
       "  <thead>\n",
       "    <tr style=\"text-align: right;\">\n",
       "      <th></th>\n",
       "      <th>Method</th>\n",
       "      <th>Encoding</th>\n",
       "      <th>Accuracy</th>\n",
       "      <th>Precision</th>\n",
       "      <th>Recall</th>\n",
       "      <th>F1 Score</th>\n",
       "    </tr>\n",
       "  </thead>\n",
       "  <tbody>\n",
       "    <tr>\n",
       "      <th>0</th>\n",
       "      <td>Navie Bayes</td>\n",
       "      <td>Count</td>\n",
       "      <td>0.840177</td>\n",
       "      <td>0.827286</td>\n",
       "      <td>0.840177</td>\n",
       "      <td>0.826608</td>\n",
       "    </tr>\n",
       "    <tr>\n",
       "      <th>1</th>\n",
       "      <td>SVM</td>\n",
       "      <td>Count</td>\n",
       "      <td>0.885976</td>\n",
       "      <td>0.876962</td>\n",
       "      <td>0.885976</td>\n",
       "      <td>0.866002</td>\n",
       "    </tr>\n",
       "    <tr>\n",
       "      <th>2</th>\n",
       "      <td>Softmax Regression</td>\n",
       "      <td>Count</td>\n",
       "      <td>0.885344</td>\n",
       "      <td>0.872983</td>\n",
       "      <td>0.885344</td>\n",
       "      <td>0.872809</td>\n",
       "    </tr>\n",
       "    <tr>\n",
       "      <th>3</th>\n",
       "      <td>Navie Bayes</td>\n",
       "      <td>TF-IDF</td>\n",
       "      <td>0.840177</td>\n",
       "      <td>0.801286</td>\n",
       "      <td>0.840177</td>\n",
       "      <td>0.818026</td>\n",
       "    </tr>\n",
       "    <tr>\n",
       "      <th>4</th>\n",
       "      <td>SVM</td>\n",
       "      <td>TF-IDF</td>\n",
       "      <td>0.889766</td>\n",
       "      <td>0.890380</td>\n",
       "      <td>0.889766</td>\n",
       "      <td>0.872955</td>\n",
       "    </tr>\n",
       "    <tr>\n",
       "      <th>5</th>\n",
       "      <td>Softmax Regression</td>\n",
       "      <td>TF-IDF</td>\n",
       "      <td>0.880291</td>\n",
       "      <td>0.869778</td>\n",
       "      <td>0.880291</td>\n",
       "      <td>0.863298</td>\n",
       "    </tr>\n",
       "    <tr>\n",
       "      <th>6</th>\n",
       "      <td>Navie Bayes</td>\n",
       "      <td>VnCoreNLP</td>\n",
       "      <td>0.850600</td>\n",
       "      <td>0.809755</td>\n",
       "      <td>0.850600</td>\n",
       "      <td>0.827930</td>\n",
       "    </tr>\n",
       "    <tr>\n",
       "      <th>7</th>\n",
       "      <td>SVM</td>\n",
       "      <td>VnCoreNLP</td>\n",
       "      <td>0.894188</td>\n",
       "      <td>0.891621</td>\n",
       "      <td>0.894188</td>\n",
       "      <td>0.876607</td>\n",
       "    </tr>\n",
       "    <tr>\n",
       "      <th>8</th>\n",
       "      <td>Softmax Regression</td>\n",
       "      <td>VnCoreNLP</td>\n",
       "      <td>0.885976</td>\n",
       "      <td>0.877052</td>\n",
       "      <td>0.885976</td>\n",
       "      <td>0.867737</td>\n",
       "    </tr>\n",
       "    <tr>\n",
       "      <th>9</th>\n",
       "      <td>Navie Bayes</td>\n",
       "      <td>Remove Stopwords</td>\n",
       "      <td>0.819646</td>\n",
       "      <td>0.778601</td>\n",
       "      <td>0.819646</td>\n",
       "      <td>0.797880</td>\n",
       "    </tr>\n",
       "    <tr>\n",
       "      <th>10</th>\n",
       "      <td>SVM</td>\n",
       "      <td>Remove Stopwords</td>\n",
       "      <td>0.848705</td>\n",
       "      <td>0.847377</td>\n",
       "      <td>0.848705</td>\n",
       "      <td>0.831870</td>\n",
       "    </tr>\n",
       "    <tr>\n",
       "      <th>11</th>\n",
       "      <td>Softmax Regression</td>\n",
       "      <td>Remove Stopwords</td>\n",
       "      <td>0.842388</td>\n",
       "      <td>0.833292</td>\n",
       "      <td>0.842388</td>\n",
       "      <td>0.825667</td>\n",
       "    </tr>\n",
       "  </tbody>\n",
       "</table>\n",
       "</div>"
      ],
      "text/plain": [
       "                Method          Encoding  Accuracy  Precision    Recall  \\\n",
       "0          Navie Bayes             Count  0.840177   0.827286  0.840177   \n",
       "1                  SVM             Count  0.885976   0.876962  0.885976   \n",
       "2   Softmax Regression             Count  0.885344   0.872983  0.885344   \n",
       "3          Navie Bayes            TF-IDF  0.840177   0.801286  0.840177   \n",
       "4                  SVM            TF-IDF  0.889766   0.890380  0.889766   \n",
       "5   Softmax Regression            TF-IDF  0.880291   0.869778  0.880291   \n",
       "6          Navie Bayes         VnCoreNLP  0.850600   0.809755  0.850600   \n",
       "7                  SVM         VnCoreNLP  0.894188   0.891621  0.894188   \n",
       "8   Softmax Regression         VnCoreNLP  0.885976   0.877052  0.885976   \n",
       "9          Navie Bayes  Remove Stopwords  0.819646   0.778601  0.819646   \n",
       "10                 SVM  Remove Stopwords  0.848705   0.847377  0.848705   \n",
       "11  Softmax Regression  Remove Stopwords  0.842388   0.833292  0.842388   \n",
       "\n",
       "    F1 Score  \n",
       "0   0.826608  \n",
       "1   0.866002  \n",
       "2   0.872809  \n",
       "3   0.818026  \n",
       "4   0.872955  \n",
       "5   0.863298  \n",
       "6   0.827930  \n",
       "7   0.876607  \n",
       "8   0.867737  \n",
       "9   0.797880  \n",
       "10  0.831870  \n",
       "11  0.825667  "
      ]
     },
     "execution_count": 46,
     "metadata": {},
     "output_type": "execute_result"
    }
   ],
   "source": [
    "df"
   ]
  }
 ],
 "metadata": {
  "kernelspec": {
   "display_name": "Python 3",
   "language": "python",
   "name": "python3"
  },
  "language_info": {
   "codemirror_mode": {
    "name": "ipython",
    "version": 3
   },
   "file_extension": ".py",
   "mimetype": "text/x-python",
   "name": "python",
   "nbconvert_exporter": "python",
   "pygments_lexer": "ipython3",
   "version": "3.11.4"
  }
 },
 "nbformat": 4,
 "nbformat_minor": 2
}
