{
  "cells": [
    {
      "cell_type": "code",
      "source": [
        "! unzip /content/DS102.zip"
      ],
      "metadata": {
        "colab": {
          "base_uri": "https://localhost:8080/"
        },
        "id": "2ETUziogDXgI",
        "outputId": "6af0b556-70b9-48f3-a3b6-07b8f43fe1a8"
      },
      "id": "2ETUziogDXgI",
      "execution_count": 9,
      "outputs": [
        {
          "output_type": "stream",
          "name": "stdout",
          "text": [
            "Archive:  /content/DS102.zip\n",
            "  inflating: baseline.zip            \n",
            "  inflating: __MACOSX/._baseline.zip  \n",
            "  inflating: eval.zip                \n",
            "   creating: public_data/\n",
            "  inflating: __MACOSX/._public_data  \n",
            "  inflating: public_data/train.npz   \n",
            "  inflating: public_data/.DS_Store   \n",
            "  inflating: __MACOSX/public_data/._.DS_Store  \n",
            "  inflating: public_data/test.npz    \n"
          ]
        }
      ]
    },
    {
      "cell_type": "code",
      "source": [
        "!unzip /content/baseline.zip"
      ],
      "metadata": {
        "id": "Lh2T6CwODdmN",
        "colab": {
          "base_uri": "https://localhost:8080/"
        },
        "outputId": "dfd2bfb9-b649-4113-e40a-5ae95d8057af"
      },
      "id": "Lh2T6CwODdmN",
      "execution_count": 10,
      "outputs": [
        {
          "output_type": "stream",
          "name": "stdout",
          "text": [
            "Archive:  /content/baseline.zip\n",
            "  inflating: main.py                 \n",
            "  inflating: __MACOSX/._main.py      \n",
            "  inflating: run_env.sh              \n",
            "  inflating: __MACOSX/._run_env.sh   \n",
            "  inflating: run_predict.sh          \n",
            "  inflating: __MACOSX/._run_predict.sh  \n",
            "  inflating: run_train.sh            \n",
            "  inflating: __MACOSX/._run_train.sh  \n"
          ]
        }
      ]
    },
    {
      "cell_type": "code",
      "source": [
        "!sh run_env.sh"
      ],
      "metadata": {
        "colab": {
          "base_uri": "https://localhost:8080/"
        },
        "id": "SIVW5YUMD9kq",
        "outputId": "d7f30475-f3f8-4956-d699-133e11af7fc2"
      },
      "id": "SIVW5YUMD9kq",
      "execution_count": 25,
      "outputs": [
        {
          "output_type": "stream",
          "name": "stdout",
          "text": [
            "Requirement already satisfied: xgboost in /usr/local/lib/python3.10/dist-packages (2.0.3)\n",
            "Requirement already satisfied: numpy in /usr/local/lib/python3.10/dist-packages (from xgboost) (1.25.2)\n",
            "Requirement already satisfied: scipy in /usr/local/lib/python3.10/dist-packages (from xgboost) (1.11.4)\n",
            "This is a demonstration of executing a bash script.\n"
          ]
        }
      ]
    },
    {
      "cell_type": "code",
      "source": [
        "!sh run_train.sh /content/public_data  /content/public_model"
      ],
      "metadata": {
        "id": "-RWLtkb_ECp5"
      },
      "id": "-RWLtkb_ECp5",
      "execution_count": 32,
      "outputs": []
    },
    {
      "cell_type": "code",
      "source": [
        "!sh run_predict.sh /content/public_model /content/public_data /content/predict"
      ],
      "metadata": {
        "colab": {
          "base_uri": "https://localhost:8080/"
        },
        "id": "UicOpn-UEgmB",
        "outputId": "826b7402-5fb9-4707-f8b0-08d6216028d5"
      },
      "id": "UicOpn-UEgmB",
      "execution_count": 33,
      "outputs": [
        {
          "output_type": "stream",
          "name": "stdout",
          "text": [
            "[[ 1.44875412 -0.45164764 -0.4353187  ...  0.16279151  0.68265272\n",
            "  -1.35861581]\n",
            " [-1.80340045 -0.04208033 -0.66737033 ... -0.10427199 -0.67943773\n",
            "   0.48132057]\n",
            " [ 0.06313664  0.12758364 -0.07970063 ...  1.10027975  1.41411099\n",
            "   0.80796379]\n",
            " ...\n",
            " [-0.55275079 -1.43458086 -0.78040461 ...  1.31413095  0.27008441\n",
            "   0.12345756]\n",
            " [-0.88530456 -0.11749493  0.54145109 ... -1.94947239 -0.43738476\n",
            "  -2.26627769]\n",
            " [-0.30356433  0.52689792 -0.60835076 ...  2.92829435 -1.04612109\n",
            "   0.24309173]]\n"
          ]
        }
      ]
    },
    {
      "cell_type": "code",
      "source": [
        "!unzip /content/eval.zip"
      ],
      "metadata": {
        "id": "l6sweiJGFx1S"
      },
      "id": "l6sweiJGFx1S",
      "execution_count": 22,
      "outputs": []
    },
    {
      "cell_type": "code",
      "source": [
        "!sh run_eval.sh /content/public_data /content/predict"
      ],
      "metadata": {
        "colab": {
          "base_uri": "https://localhost:8080/"
        },
        "id": "2A6YsB0iF3xe",
        "outputId": "ade70241-e8e4-462d-d3af-81bf52d2ca17"
      },
      "id": "2A6YsB0iF3xe",
      "execution_count": 31,
      "outputs": [
        {
          "output_type": "stream",
          "name": "stdout",
          "text": [
            "Traceback (most recent call last):\n",
            "  File \"/content/compute_score.py\", line 26, in <module>\n",
            "    y_true = pd.read_json(os.path.join(args.true_path, \"test.npz\"), lines=True)\n",
            "  File \"/usr/local/lib/python3.10/dist-packages/pandas/io/json/_json.py\", line 760, in read_json\n",
            "    json_reader = JsonReader(\n",
            "  File \"/usr/local/lib/python3.10/dist-packages/pandas/io/json/_json.py\", line 862, in __init__\n",
            "    self.data = self._preprocess_data(data)\n",
            "  File \"/usr/local/lib/python3.10/dist-packages/pandas/io/json/_json.py\", line 874, in _preprocess_data\n",
            "    data = data.read()\n",
            "  File \"/usr/lib/python3.10/codecs.py\", line 322, in decode\n",
            "    (result, consumed) = self._buffer_decode(data, self.errors, final)\n",
            "UnicodeDecodeError: 'utf-8' codec can't decode byte 0x91 in position 16: invalid start byte\n"
          ]
        }
      ]
    }
  ],
  "metadata": {
    "kernelspec": {
      "display_name": "myenv",
      "language": "python",
      "name": "myenv"
    },
    "language_info": {
      "codemirror_mode": {
        "name": "ipython",
        "version": 3
      },
      "file_extension": ".py",
      "mimetype": "text/x-python",
      "name": "python",
      "nbconvert_exporter": "python",
      "pygments_lexer": "ipython3",
      "version": "3.8.10"
    },
    "colab": {
      "provenance": []
    }
  },
  "nbformat": 4,
  "nbformat_minor": 5
}